{
 "cells": [
  {
   "cell_type": "markdown",
   "id": "53b3bcfd-9813-42fb-88a7-b50288914788",
   "metadata": {
    "slideshow": {
     "slide_type": "slide"
    },
    "tags": [],
    "user_expressions": []
   },
   "source": [
    "# <center>Introduction to <img src=\"https://www.python.org/static/community_logos/python-logo-inkscape.svg\" alt=\"Python\" width=300/> and <img src=\"https://ipython.org/_static/IPy_header.png\" alt=\"IPython\" width=300/> using <img src=\"https://raw.githubusercontent.com/adebar/awesome-jupyter/master/logo.png\" alt=\"Jupyter\" width=300/></center>"
   ]
  },
  {
   "cell_type": "markdown",
   "id": "7e02398d-0f57-4539-b4d7-b6d4538245c5",
   "metadata": {
    "slideshow": {
     "slide_type": "slide"
    },
    "tags": [],
    "user_expressions": []
   },
   "source": [
    "# Functions"
   ]
  },
  {
   "cell_type": "markdown",
   "id": "5f246534-a48e-4150-851e-f0da90d26b20",
   "metadata": {
    "slideshow": {
     "slide_type": "fragment"
    },
    "user_expressions": []
   },
   "source": [
    "Many times we need to perform computations or things Python does not know how to do natively. "
   ]
  },
  {
   "cell_type": "markdown",
   "id": "bf89e80a-f017-41ba-8805-a30e66903c04",
   "metadata": {
    "slideshow": {
     "slide_type": "fragment"
    },
    "user_expressions": []
   },
   "source": [
    "Other times, we want the same piece of code to work with other inputs (data, values, etc.)"
   ]
  },
  {
   "cell_type": "markdown",
   "id": "c5751808-07e3-4f61-9899-bc079f452d09",
   "metadata": {
    "slideshow": {
     "slide_type": "fragment"
    },
    "user_expressions": []
   },
   "source": [
    "What can we do?"
   ]
  },
  {
   "cell_type": "markdown",
   "id": "63e987c7-ffd2-4d2d-bd8f-0de396455ec6",
   "metadata": {
    "slideshow": {
     "slide_type": "subslide"
    },
    "tags": [],
    "user_expressions": []
   },
   "source": [
    "### Solution: Write a function"
   ]
  },
  {
   "cell_type": "markdown",
   "id": "fe26dda6-5b49-44fd-a615-6b6b34336ae2",
   "metadata": {
    "slideshow": {
     "slide_type": "fragment"
    },
    "user_expressions": []
   },
   "source": [
    "There are two ways of defining functions in Python:"
   ]
  },
  {
   "cell_type": "markdown",
   "id": "bd48bd9d-b3d7-40f6-aba3-1236b0769dc8",
   "metadata": {
    "slideshow": {
     "slide_type": "fragment"
    },
    "tags": [],
    "user_expressions": []
   },
   "source": [
    "1. Using *anonymous functions* via the `lambda` notation:\n",
    "```python\n",
    "my_function = lambda x: some_computations_based_on_x\n",
    "```  "
   ]
  },
  {
   "cell_type": "markdown",
   "id": "f3e9ba76-553d-457f-adb6-bc29ef05219a",
   "metadata": {
    "slideshow": {
     "slide_type": "fragment"
    },
    "tags": [],
    "user_expressions": []
   },
   "source": [
    "* `lambda` notation is useful to create functions on the go, especially when passing a function to others. We'll see examples and use it quite a bit later when we go into data analyses."
   ]
  },
  {
   "cell_type": "markdown",
   "id": "7e996441-0f4f-4514-850a-fbf4114689eb",
   "metadata": {
    "slideshow": {
     "slide_type": "fragment"
    },
    "tags": [],
    "user_expressions": []
   },
   "source": [
    "* A `lambda` function can take any number of arguments, but can only have one expression, i.e., you cannot perform complex computations."
   ]
  },
  {
   "cell_type": "markdown",
   "id": "61c3fa89-f5a8-4118-9a10-97dbc21eb50d",
   "metadata": {
    "slideshow": {
     "slide_type": "subslide"
    },
    "user_expressions": []
   },
   "source": [
    "2. Using the `def` statement:\n",
    "```python\n",
    "def my_function(x, y, z=Z):\n",
    "    '''\n",
    "    Explanation of what the function does\n",
    "    What are the inputs:\n",
    "    x: variable to be passed\n",
    "    y: variable to be passed\n",
    "    z: variable to be passed, Z is the default value\n",
    "    '''\n",
    "    perform_computations\n",
    "    return some_value_or_computation\n",
    "```"
   ]
  },
  {
   "cell_type": "markdown",
   "id": "12f2d753-cb1e-4077-b7de-d60a6e2f043d",
   "metadata": {
    "slideshow": {
     "slide_type": "subslide"
    },
    "tags": [],
    "user_expressions": []
   },
   "source": [
    "* Functions defined with the `def` statement can take any number of arguments, assign default values to them, and can have as many expressions as needed."
   ]
  },
  {
   "cell_type": "markdown",
   "id": "bd57eab5-bb0a-404f-8ec1-1e6792ee6161",
   "metadata": {
    "slideshow": {
     "slide_type": "fragment"
    },
    "tags": [],
    "user_expressions": []
   },
   "source": [
    "<div class=\"alert alert-block alert-info\">\n",
    "    <b>Note:</b> There is special horizontal spacing below the line that starts with <code>def</code> and all lines below it are aligned in the <code>def</code> statement. This is similar to the other statements we have seen so far.\n",
    "</div>"
   ]
  },
  {
   "cell_type": "markdown",
   "id": "c18dca89-faa3-4786-a33d-9fe66f21f969",
   "metadata": {
    "slideshow": {
     "slide_type": "subslide"
    }
   },
   "source": [
    "# Example"
   ]
  },
  {
   "cell_type": "markdown",
   "id": "9b64ed97-2227-4971-a38d-1f78d24199e1",
   "metadata": {
    "slideshow": {
     "slide_type": "fragment"
    },
    "tags": [],
    "user_expressions": []
   },
   "source": [
    "Let's create a function that computes the square of a number. Let's do it first using an anonymous function."
   ]
  },
  {
   "cell_type": "code",
   "execution_count": 1,
   "id": "170cabfa-2582-4fee-be4a-11809b1f5ae1",
   "metadata": {
    "slideshow": {
     "slide_type": "fragment"
    }
   },
   "outputs": [],
   "source": [
    "my_square = lambda x: x**2"
   ]
  },
  {
   "cell_type": "code",
   "execution_count": 2,
   "id": "f6659361-b1e3-440f-a147-2975f363a187",
   "metadata": {
    "slideshow": {
     "slide_type": "fragment"
    }
   },
   "outputs": [
    {
     "data": {
      "text/plain": [
       "16"
      ]
     },
     "execution_count": 2,
     "metadata": {},
     "output_type": "execute_result"
    }
   ],
   "source": [
    "my_square(4)"
   ]
  },
  {
   "cell_type": "code",
   "execution_count": 3,
   "id": "03d9ac2d-0091-492a-ae9c-059bd7439db6",
   "metadata": {
    "slideshow": {
     "slide_type": "fragment"
    }
   },
   "outputs": [
    {
     "data": {
      "text/plain": [
       "81"
      ]
     },
     "execution_count": 3,
     "metadata": {},
     "output_type": "execute_result"
    }
   ],
   "source": [
    "my_square(9)"
   ]
  },
  {
   "cell_type": "markdown",
   "id": "1deef93d-18b1-42e3-ad65-0535125e0cf7",
   "metadata": {
    "slideshow": {
     "slide_type": "subslide"
    },
    "tags": [],
    "user_expressions": []
   },
   "source": [
    "Now, let's create the same function using the `def` statement, which we will call create/write a function as opposed to an anonymous function."
   ]
  },
  {
   "cell_type": "code",
   "execution_count": 4,
   "id": "30cf0a1d-7507-4089-8842-d16468794f4e",
   "metadata": {
    "slideshow": {
     "slide_type": "fragment"
    }
   },
   "outputs": [],
   "source": [
    "def my_square_fn(x):\n",
    "    '''\n",
    "    This function take an input x and return x^2.\n",
    "    Parameters:\n",
    "    -----------\n",
    "    x: float, integer or any other number\n",
    "    \n",
    "    Returns:\n",
    "    --------\n",
    "    out = x**2\n",
    "    \n",
    "    Example:\n",
    "    >>> out = my_square_fn(4)\n",
    "    >>> out\n",
    "        16\n",
    "    '''\n",
    "    return x**2"
   ]
  },
  {
   "cell_type": "code",
   "execution_count": 5,
   "id": "5fd80b81-42f3-41fa-97a0-3a1f4bb07d20",
   "metadata": {
    "slideshow": {
     "slide_type": "subslide"
    }
   },
   "outputs": [
    {
     "data": {
      "text/plain": [
       "16"
      ]
     },
     "execution_count": 5,
     "metadata": {},
     "output_type": "execute_result"
    }
   ],
   "source": [
    "my_square_fn(4)"
   ]
  },
  {
   "cell_type": "code",
   "execution_count": 6,
   "id": "ff522b4f-77a2-493e-a4f0-0cf7c67b840a",
   "metadata": {
    "slideshow": {
     "slide_type": "fragment"
    }
   },
   "outputs": [],
   "source": [
    "my_square_fn?"
   ]
  },
  {
   "cell_type": "markdown",
   "id": "a6826b12-4cef-474a-a4b4-51f47e42d8d1",
   "metadata": {
    "slideshow": {
     "slide_type": "slide"
    },
    "tags": [],
    "user_expressions": []
   },
   "source": [
    "# Some useful functions in Python"
   ]
  },
  {
   "cell_type": "markdown",
   "id": "6048ecfd-c258-4b71-a4a4-e709ee37d7fc",
   "metadata": {
    "slideshow": {
     "slide_type": "subslide"
    },
    "tags": [],
    "user_expressions": []
   },
   "source": [
    "* `range(from, to, step)` creates a sequence of numbers from `from` to `to` increasing by `step`"
   ]
  },
  {
   "cell_type": "code",
   "execution_count": 7,
   "id": "00819892-82d8-4464-a798-7871516ec3ee",
   "metadata": {
    "slideshow": {
     "slide_type": "fragment"
    }
   },
   "outputs": [
    {
     "data": {
      "text/plain": [
       "[2, 5, 8, 11, 14, 17]"
      ]
     },
     "execution_count": 7,
     "metadata": {},
     "output_type": "execute_result"
    }
   ],
   "source": [
    "list(range(2, 20, 3))"
   ]
  },
  {
   "cell_type": "code",
   "execution_count": 8,
   "id": "52b6c707-c2f2-4a3e-9fe3-80cdd0d2a72a",
   "metadata": {
    "slideshow": {
     "slide_type": "fragment"
    }
   },
   "outputs": [
    {
     "data": {
      "text/plain": [
       "[0, 1, 2, 3, 4]"
      ]
     },
     "execution_count": 8,
     "metadata": {},
     "output_type": "execute_result"
    }
   ],
   "source": [
    "list(range(5))"
   ]
  },
  {
   "cell_type": "markdown",
   "id": "4937f60f-4d17-40fe-afdb-e6e196ebf5da",
   "metadata": {
    "slideshow": {
     "slide_type": "subslide"
    },
    "tags": [],
    "user_expressions": []
   },
   "source": [
    "* `print(string)` prints a string"
   ]
  },
  {
   "cell_type": "code",
   "execution_count": 9,
   "id": "f549b8b8-c7ec-4418-bdcf-f9f9551f5d32",
   "metadata": {
    "slideshow": {
     "slide_type": "fragment"
    }
   },
   "outputs": [
    {
     "name": "stdout",
     "output_type": "stream",
     "text": [
      "The square of 100 is 10000\n",
      "The square of 100 is 10000\n"
     ]
    }
   ],
   "source": [
    "print('The square of 100 is', my_square(100))\n",
    "print('The square of 100 is ' + str(my_square(100)))"
   ]
  },
  {
   "cell_type": "markdown",
   "id": "439d3935-336b-45fe-9631-c15ecb0cdc1e",
   "metadata": {
    "slideshow": {
     "slide_type": "subslide"
    },
    "tags": [],
    "user_expressions": []
   },
   "source": [
    "* `len(x)` returns the length of element `x`"
   ]
  },
  {
   "cell_type": "code",
   "execution_count": 10,
   "id": "33153265-d7e0-446c-b1d6-3cb14c2d2e8a",
   "metadata": {
    "slideshow": {
     "slide_type": "fragment"
    }
   },
   "outputs": [
    {
     "data": {
      "text/plain": [
       "100"
      ]
     },
     "execution_count": 10,
     "metadata": {},
     "output_type": "execute_result"
    }
   ],
   "source": [
    "len(range(100))"
   ]
  },
  {
   "cell_type": "code",
   "execution_count": 11,
   "id": "d9d31fdf-3d30-4146-94b7-9c2e03909657",
   "metadata": {
    "slideshow": {
     "slide_type": "fragment"
    }
   },
   "outputs": [
    {
     "data": {
      "text/plain": [
       "33"
      ]
     },
     "execution_count": 11,
     "metadata": {},
     "output_type": "execute_result"
    }
   ],
   "source": [
    "len('Some random string ndsyafsdasdwne')"
   ]
  },
  {
   "cell_type": "markdown",
   "id": "43dc9647-27ac-43c4-bcd0-3380ca29fe06",
   "metadata": {
    "slideshow": {
     "slide_type": "subslide"
    },
    "tags": [],
    "user_expressions": []
   },
   "source": [
    "* `type(x)` returns the type of `x`"
   ]
  },
  {
   "cell_type": "code",
   "execution_count": 12,
   "id": "f9ae945f-3d3a-42ff-8ff6-c57070b3a306",
   "metadata": {
    "slideshow": {
     "slide_type": "fragment"
    }
   },
   "outputs": [
    {
     "data": {
      "text/plain": [
       "str"
      ]
     },
     "execution_count": 12,
     "metadata": {},
     "output_type": "execute_result"
    }
   ],
   "source": [
    "type('hello')"
   ]
  },
  {
   "cell_type": "code",
   "execution_count": 13,
   "id": "e35a4a01-624e-4865-bc1a-6ed9421e0768",
   "metadata": {
    "slideshow": {
     "slide_type": "fragment"
    }
   },
   "outputs": [
    {
     "data": {
      "text/plain": [
       "float"
      ]
     },
     "execution_count": 13,
     "metadata": {},
     "output_type": "execute_result"
    }
   ],
   "source": [
    "type(3.1415)"
   ]
  },
  {
   "cell_type": "code",
   "execution_count": 14,
   "id": "9f079de8-df33-466b-a55d-beb96f43fdb3",
   "metadata": {
    "slideshow": {
     "slide_type": "fragment"
    }
   },
   "outputs": [
    {
     "data": {
      "text/plain": [
       "int"
      ]
     },
     "execution_count": 14,
     "metadata": {},
     "output_type": "execute_result"
    }
   ],
   "source": [
    "type(10)"
   ]
  },
  {
   "cell_type": "code",
   "execution_count": 15,
   "id": "15a7a8ab-8141-4f87-97fc-6db094ffbeab",
   "metadata": {
    "slideshow": {
     "slide_type": "fragment"
    }
   },
   "outputs": [
    {
     "data": {
      "text/plain": [
       "list"
      ]
     },
     "execution_count": 15,
     "metadata": {},
     "output_type": "execute_result"
    }
   ],
   "source": [
    "type([1, 'a', 3])"
   ]
  },
  {
   "cell_type": "markdown",
   "id": "177c2abc-d07a-4c88-bdd1-5b94e72e5337",
   "metadata": {
    "slideshow": {
     "slide_type": "slide"
    },
    "user_expressions": []
   },
   "source": [
    "## But what if Python does not have the function we need?"
   ]
  },
  {
   "cell_type": "markdown",
   "id": "7675af40-3eac-4db1-ae42-ab56e7e9d564",
   "metadata": {
    "slideshow": {
     "slide_type": "fragment"
    },
    "tags": [],
    "user_expressions": []
   },
   "source": [
    "## Do we need to write all the functions?"
   ]
  },
  {
   "cell_type": "markdown",
   "id": "f8d78b18-f3da-4a69-a44e-22c89bba5dcb",
   "metadata": {
    "slideshow": {
     "slide_type": "fragment"
    },
    "tags": [],
    "user_expressions": []
   },
   "source": [
    "## Luckily...No"
   ]
  },
  {
   "cell_type": "markdown",
   "id": "e51bea53-4d19-448e-8125-9807a803b5c1",
   "metadata": {
    "slideshow": {
     "slide_type": "slide"
    },
    "tags": [],
    "user_expressions": []
   },
   "source": [
    "# Extending Python's Functionality with Packages"
   ]
  },
  {
   "cell_type": "markdown",
   "id": "4bc0b4bd-9f93-407e-967d-f445d4f9461c",
   "metadata": {
    "slideshow": {
     "slide_type": "fragment"
    },
    "tags": [],
    "user_expressions": []
   },
   "source": [
    "One of the reasons people like Python is that there are lots of ready to use functions and solutions out there\n",
    "\n",
    "<center><img src=\"https://github.com/SMU-Econ-Growth/EconGrowthUG-Notebooks/blob/main/pics/X-files-truth-is-out-there.jpg?raw=true\" alt=\"X-files\" width=50%/></center>"
   ]
  },
  {
   "cell_type": "markdown",
   "id": "3b8538bc-fd25-4212-aa69-b5390dc4d2b4",
   "metadata": {
    "slideshow": {
     "slide_type": "subslide"
    },
    "user_expressions": []
   },
   "source": [
    "In order to use a package/module in Python or IPython, say `mypackage`, you need to import it, by executing\n",
    "```python\n",
    "import mypackage\n",
    "```"
   ]
  },
  {
   "cell_type": "markdown",
   "id": "074e410b-c942-44ca-aed4-b4ff33fd7630",
   "metadata": {
    "slideshow": {
     "slide_type": "fragment"
    },
    "user_expressions": []
   },
   "source": [
    "After executing this command, you will have access to the functions and objects defined in `mypackage`. \n",
    "For example, if `mypackage` has a function `squared` that takes a real number `x` and computes its square, \n",
    "we can use this function by calling `mypackage.squared(x)`. "
   ]
  },
  {
   "cell_type": "markdown",
   "id": "a1bb6c9d-fb7b-42d8-9df8-dd36650a9a97",
   "metadata": {
    "slideshow": {
     "slide_type": "subslide"
    },
    "tags": [],
    "user_expressions": []
   },
   "source": [
    "Since the name of some packages might be too long, your can give them a nickname by importing them instead as\n",
    "```python    \n",
    "import mypackage as myp\n",
    "```\n",
    "so now we could compute the square of `x` by calling `myp.squared(x)`."
   ]
  },
  {
   "cell_type": "markdown",
   "id": "f4b6d5a8-eb98-486a-bdc8-6077be55b300",
   "metadata": {
    "slideshow": {
     "slide_type": "subslide"
    },
    "tags": [],
    "user_expressions": []
   },
   "source": [
    "Sometimes we want to import only a function or a subpackage, in which case we use\n",
    "```python\n",
    "from mypackage import mysubpackage as mysp\n",
    "from mypackage import function\n",
    "```"
   ]
  },
  {
   "cell_type": "markdown",
   "id": "da0a1aa0-d2aa-49de-8ec7-94e62237362a",
   "metadata": {
    "slideshow": {
     "slide_type": "fragment"
    },
    "tags": [],
    "user_expressions": []
   },
   "source": [
    "We will use various packages that will be useful to do computations, statistics, plots, data management, etc."
   ]
  },
  {
   "cell_type": "markdown",
   "id": "f8f381fd",
   "metadata": {
    "slideshow": {
     "slide_type": "slide"
    }
   },
   "source": [
    "# Managing the Operating System with os"
   ]
  },
  {
   "cell_type": "markdown",
   "id": "71a3ab7c",
   "metadata": {
    "slideshow": {
     "slide_type": "fragment"
    }
   },
   "source": [
    "[os](https://docs.python.org/3/library/os.html) is the fundamental module to interact with your computer's operating system."
   ]
  },
  {
   "cell_type": "markdown",
   "id": "296b0cf3",
   "metadata": {
    "slideshow": {
     "slide_type": "subslide"
    }
   },
   "source": [
    "With `os` you can:"
   ]
  },
  {
   "cell_type": "markdown",
   "id": "ec7049c8",
   "metadata": {
    "slideshow": {
     "slide_type": "fragment"
    }
   },
   "source": [
    "* Get environment variables"
   ]
  },
  {
   "cell_type": "markdown",
   "id": "1c6b3b66",
   "metadata": {
    "slideshow": {
     "slide_type": "fragment"
    }
   },
   "source": [
    "* Verify if a file or directory exists"
   ]
  },
  {
   "cell_type": "markdown",
   "id": "dd86c3fb",
   "metadata": {
    "slideshow": {
     "slide_type": "fragment"
    }
   },
   "source": [
    "* Change directories"
   ]
  },
  {
   "cell_type": "markdown",
   "id": "56182090",
   "metadata": {
    "slideshow": {
     "slide_type": "fragment"
    }
   },
   "source": [
    "* Create a file or directory"
   ]
  },
  {
   "cell_type": "markdown",
   "id": "d3878ce8",
   "metadata": {
    "slideshow": {
     "slide_type": "fragment"
    }
   },
   "source": [
    "* Delete files or directories"
   ]
  },
  {
   "cell_type": "code",
   "execution_count": 16,
   "id": "2ba43a98",
   "metadata": {
    "slideshow": {
     "slide_type": "subslide"
    }
   },
   "outputs": [],
   "source": [
    "import os"
   ]
  },
  {
   "cell_type": "markdown",
   "id": "d8b7b630",
   "metadata": {
    "slideshow": {
     "slide_type": "fragment"
    }
   },
   "source": [
    "### Get the home directory of current user"
   ]
  },
  {
   "cell_type": "code",
   "execution_count": 17,
   "id": "0a96c92c",
   "metadata": {
    "slideshow": {
     "slide_type": "-"
    }
   },
   "outputs": [
    {
     "data": {
      "text/plain": [
       "'/Users/ozak'"
      ]
     },
     "execution_count": 17,
     "metadata": {},
     "output_type": "execute_result"
    }
   ],
   "source": [
    "os.getenv('HOME')"
   ]
  },
  {
   "cell_type": "markdown",
   "id": "3b2237e0",
   "metadata": {
    "slideshow": {
     "slide_type": "subslide"
    }
   },
   "source": [
    "### Verify if `pics` directory exists"
   ]
  },
  {
   "cell_type": "code",
   "execution_count": 18,
   "id": "794fa641",
   "metadata": {
    "slideshow": {
     "slide_type": "-"
    }
   },
   "outputs": [
    {
     "data": {
      "text/plain": [
       "True"
      ]
     },
     "execution_count": 18,
     "metadata": {},
     "output_type": "execute_result"
    }
   ],
   "source": [
    "os.path.exists('pics')"
   ]
  },
  {
   "cell_type": "markdown",
   "id": "7c9360e5-168b-4218-be7e-bc2fcbe2f763",
   "metadata": {
    "slideshow": {
     "slide_type": "slide"
    },
    "tags": [],
    "user_expressions": []
   },
   "source": [
    "# Plots with \n",
    "<center><img src=\"https://raw.githubusercontent.com/SMU-Econ-Growth/EconGrowthUG-Notebooks/main/pics/matplotlib.svg\" alt=\"matplotlib\" width=25%/></center>"
   ]
  },
  {
   "cell_type": "markdown",
   "id": "409791a5-b70b-40b1-8cfb-b25875eae62e",
   "metadata": {
    "slideshow": {
     "slide_type": "fragment"
    },
    "tags": [],
    "user_expressions": []
   },
   "source": [
    "[Matplotlib](https://matplotlib.org/) is the fundamental package for plotting in Python. \n",
    "\n",
    "All other plotting packages are built on top of it and expand it.\n",
    "\n",
    "You can find examples of plots in their [Gallery](https://matplotlib.org/stable/gallery/index.html)."
   ]
  },
  {
   "cell_type": "markdown",
   "id": "502c990b-1189-46b1-8cbf-702cec718fe3",
   "metadata": {
    "slideshow": {
     "slide_type": "subslide"
    },
    "user_expressions": []
   },
   "source": [
    "It is the norm to import matplotlib and its pyplot component as follows (and I suggest you do the same):\n",
    "```python\n",
    "import matplotlib as mpl\n",
    "import matplotlib.pyplot as plt\n",
    "%matplotlib matlab_type\n",
    "```\n",
    "where `matlab_type` can be `inline` or `widget`. \n",
    "\n",
    "`widget` provides interactive plots, while `inline` generates static plots."
   ]
  },
  {
   "cell_type": "code",
   "execution_count": 19,
   "id": "e775db0c-a012-42ab-a348-919ce32e0460",
   "metadata": {
    "slideshow": {
     "slide_type": "fragment"
    }
   },
   "outputs": [],
   "source": [
    "import matplotlib as mpl\n",
    "import matplotlib.pyplot as plt\n",
    "%matplotlib widget"
   ]
  },
  {
   "cell_type": "markdown",
   "id": "5dbf1723-4aa8-4ff3-92d2-b1e5553cf9df",
   "metadata": {
    "slideshow": {
     "slide_type": "subslide"
    },
    "tags": [],
    "user_expressions": []
   },
   "source": [
    "Let's plot a line connecting a few points in a plot"
   ]
  },
  {
   "cell_type": "code",
   "execution_count": 21,
   "id": "d33f67c3-26a5-473a-8be3-0c9a20a03719",
   "metadata": {
    "slideshow": {
     "slide_type": "fragment"
    }
   },
   "outputs": [
    {
     "data": {
      "text/plain": [
       "<matplotlib.legend.Legend at 0x17f46c6a0>"
      ]
     },
     "execution_count": 21,
     "metadata": {},
     "output_type": "execute_result"
    },
    {
     "data": {
      "application/vnd.jupyter.widget-view+json": {
       "model_id": "f70c4e1811c24e1cb6d20239488a7ab6",
       "version_major": 2,
       "version_minor": 0
      },
      "image/png": "[encoded data removed]",
      "text/html": [
       "\n",
       "            <div style=\"display: inline-block;\">\n",
       "                <div class=\"jupyter-widgets widget-label\" style=\"text-align: center;\">\n",
       "                    Figure\n",
       "                </div>\n",
       "                <img src='data:image/png;base64,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' width=640.0/>\n",
       "            </div>\n",
       "        "
      ],
      "text/plain": [
       "Canvas(toolbar=Toolbar(toolitems=[('Home', 'Reset original view', 'home', 'home'), ('Back', 'Back to previous …"
      ]
     },
     "metadata": {},
     "output_type": "display_data"
    }
   ],
   "source": [
    "x = [0, 1, 2, 3]\n",
    "y = [my_square(i) for i in x]\n",
    "plt.plot(x, y, c='r', marker='o', linestyle=':', label=r'$y=x^2$')\n",
    "plt.legend()"
   ]
  },
  {
   "cell_type": "markdown",
   "id": "3f23bef1-942d-41f8-b273-13039bfff16e",
   "metadata": {
    "slideshow": {
     "slide_type": "subslide"
    },
    "user_expressions": []
   },
   "source": [
    "Let's plot various lines and points with different colors and styles, and add labels etc."
   ]
  },
  {
   "cell_type": "code",
   "execution_count": 22,
   "id": "f729e37d-2f03-4d11-90c4-d5251fac9e9f",
   "metadata": {
    "slideshow": {
     "slide_type": "fragment"
    }
   },
   "outputs": [],
   "source": [
    "x = [i/10 for i in range(0, 100)]\n",
    "y = [i**2 for i in x]\n",
    "z = [100 - 1/4 * i**2 + i for i in x]"
   ]
  },
  {
   "cell_type": "code",
   "execution_count": 23,
   "id": "4280695d-cc17-44c0-a941-162bd76a46be",
   "metadata": {
    "slideshow": {
     "slide_type": "subslide"
    }
   },
   "outputs": [
    {
     "data": {
      "application/vnd.jupyter.widget-view+json": {
       "model_id": "39fbe2850cec4a4cbea6164b81a1db01",
       "version_major": 2,
       "version_minor": 0
      },
      "image/png": "[encoded data removed]",
      "text/html": [
       "\n",
       "            <div style=\"display: inline-block;\">\n",
       "                <div class=\"jupyter-widgets widget-label\" style=\"text-align: center;\">\n",
       "                    Figure\n",
       "                </div>\n",
       "                <img src='data:image/png;base64,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' width=800.0/>\n",
       "            </div>\n",
       "        "
      ],
      "text/plain": [
       "Canvas(toolbar=Toolbar(toolitems=[('Home', 'Reset original view', 'home', 'home'), ('Back', 'Back to previous …"
      ]
     },
     "metadata": {},
     "output_type": "display_data"
    }
   ],
   "source": [
    "fig, ax = plt.subplots(figsize=(8,5))\n",
    "ax.plot(x, y, c='r', marker='o', markersize=4, linestyle='-.', label=r'$y=x^2$')\n",
    "ax.plot(x, z, c='b', marker='D', markersize=4, linestyle='-', label=r'$y=100-\\frac{1}{4}x^2 + x$')\n",
    "ax.set_xlabel(r'$x$', fontsize=18)\n",
    "ax.set_ylabel(r'Value', fontsize=18)\n",
    "ax.set_title(r'Some Plots', fontsize=24)\n",
    "ax.legend(fontsize=18)\n",
    "plt.savefig('./pics/some-plots.png')\n",
    "plt.savefig('./pics/some-plots.pdf')"
   ]
  },
  {
   "cell_type": "markdown",
   "id": "8994817f-8ec2-412c-baa0-1724e85dc12b",
   "metadata": {
    "slideshow": {
     "slide_type": "slide"
    },
    "tags": [],
    "user_expressions": []
   },
   "source": [
    "# <center>Numerical Computations with NumPy</center>\n",
    "<center><img src=\"https://raw.githubusercontent.com/SMU-Econ-Growth/EconGrowthUG-Notebooks/main/pics/numpy.svg\" alt=\"NumPy\" width=10%/></center>"
   ]
  },
  {
   "cell_type": "markdown",
   "id": "84a13f1f-e844-4995-b533-ddac4794dc73",
   "metadata": {
    "slideshow": {
     "slide_type": "subslide"
    },
    "tags": [],
    "user_expressions": []
   },
   "source": [
    "[NumPy](https://numpy.org/) is one of the fundamental packages for scientific computing with Python.\n",
    "\n",
    "It provides many functions, objects, elements, etc. for doing all kinds of numerical computations, e.g.,\n",
    "* Constants: Euler, Pi\n",
    "* Matrices, vectors, arrays\n",
    "* Functions: Logarithms, roots, inverses\n",
    "* Random number generators\n",
    "* Optimization algorithms"
   ]
  },
  {
   "cell_type": "markdown",
   "id": "85a2b959-003b-470d-a718-76d9d63c66a6",
   "metadata": {
    "slideshow": {
     "slide_type": "subslide"
    },
    "tags": [],
    "user_expressions": []
   },
   "source": [
    "It is the norm to import NumPy as follows (and I suggest you do the same):\n",
    "```python\n",
    "import numpy as np\n",
    "```"
   ]
  },
  {
   "cell_type": "code",
   "execution_count": 24,
   "id": "b78e35ad-20b2-4b5b-9467-419fd3ca4327",
   "metadata": {
    "slideshow": {
     "slide_type": "fragment"
    }
   },
   "outputs": [],
   "source": [
    "import numpy as np"
   ]
  },
  {
   "cell_type": "markdown",
   "id": "63f0ebd1-64c0-4c84-bb9d-2e10608b71db",
   "metadata": {
    "slideshow": {
     "slide_type": "subslide"
    },
    "tags": [],
    "user_expressions": []
   },
   "source": [
    "Once it is imported we can start doing computations with it. \n",
    "\n",
    "The main type of object we will use is a NumPy array, which we create by\n",
    "```python\n",
    "my_array = np.array(list_of_numbers)\n",
    "```\n",
    "e.g.,"
   ]
  },
  {
   "cell_type": "code",
   "execution_count": 25,
   "id": "0b7e8bd4-8dd0-43fa-8368-e62d99a11a8e",
   "metadata": {
    "slideshow": {
     "slide_type": "subslide"
    }
   },
   "outputs": [],
   "source": [
    "c = [1, 2]\n",
    "d = [[1, 2], [3, 4]]\n",
    "ca = np.array(c)\n",
    "da = np.array(d) "
   ]
  },
  {
   "cell_type": "code",
   "execution_count": 26,
   "id": "05ec4d3f-8844-4655-bdf6-1785ada2ff8e",
   "metadata": {
    "slideshow": {
     "slide_type": "fragment"
    }
   },
   "outputs": [
    {
     "data": {
      "text/plain": [
       "array([1, 2])"
      ]
     },
     "execution_count": 26,
     "metadata": {},
     "output_type": "execute_result"
    }
   ],
   "source": [
    "ca"
   ]
  },
  {
   "cell_type": "code",
   "execution_count": 27,
   "id": "fc594fba-5e98-4344-9afd-8f3292a719dd",
   "metadata": {
    "slideshow": {
     "slide_type": "fragment"
    }
   },
   "outputs": [
    {
     "data": {
      "text/plain": [
       "array([[1, 2],\n",
       "       [3, 4]])"
      ]
     },
     "execution_count": 27,
     "metadata": {},
     "output_type": "execute_result"
    }
   ],
   "source": [
    "da"
   ]
  },
  {
   "cell_type": "markdown",
   "id": "21a004ea-bb09-4f7b-a08c-639970402993",
   "metadata": {
    "slideshow": {
     "slide_type": "subslide"
    },
    "user_expressions": []
   },
   "source": [
    "With our arrays we can easily perform computations on each element."
   ]
  },
  {
   "cell_type": "code",
   "execution_count": 28,
   "id": "7672a4f2-6a9a-4ee4-a26e-d27c60b9bc9a",
   "metadata": {
    "slideshow": {
     "slide_type": "fragment"
    }
   },
   "outputs": [
    {
     "data": {
      "text/plain": [
       "array([1, 4])"
      ]
     },
     "execution_count": 28,
     "metadata": {},
     "output_type": "execute_result"
    }
   ],
   "source": [
    "ca**2"
   ]
  },
  {
   "cell_type": "code",
   "execution_count": 29,
   "id": "20dc031c-b714-42d8-885f-04c5cc9a37e1",
   "metadata": {
    "slideshow": {
     "slide_type": "fragment"
    }
   },
   "outputs": [
    {
     "data": {
      "text/plain": [
       "array([[ 3,  6],\n",
       "       [ 9, 12]])"
      ]
     },
     "execution_count": 29,
     "metadata": {},
     "output_type": "execute_result"
    }
   ],
   "source": [
    "da * 3"
   ]
  },
  {
   "cell_type": "code",
   "execution_count": 30,
   "id": "f599a2ca-c891-4638-b6fd-056ddabb565c",
   "metadata": {
    "slideshow": {
     "slide_type": "fragment"
    }
   },
   "outputs": [
    {
     "data": {
      "text/plain": [
       "array([[1, 4],\n",
       "       [3, 8]])"
      ]
     },
     "execution_count": 30,
     "metadata": {},
     "output_type": "execute_result"
    }
   ],
   "source": [
    "ca*da"
   ]
  },
  {
   "cell_type": "markdown",
   "id": "935ce983-9d59-4d26-b683-4369a741ba62",
   "metadata": {
    "slideshow": {
     "slide_type": "subslide"
    },
    "tags": [],
    "user_expressions": []
   },
   "source": [
    "Arrays also have their own functions and properties"
   ]
  },
  {
   "cell_type": "code",
   "execution_count": 31,
   "id": "76579f1a-7160-46c2-b646-9b7f35e3b341",
   "metadata": {
    "slideshow": {
     "slide_type": "fragment"
    }
   },
   "outputs": [
    {
     "name": "stdout",
     "output_type": "stream",
     "text": [
      "(2,)\n",
      "(2, 2)\n"
     ]
    }
   ],
   "source": [
    "print(ca.shape)\n",
    "print(da.shape)"
   ]
  },
  {
   "cell_type": "code",
   "execution_count": 32,
   "id": "efbb7e0c-e949-4520-aafe-608853531e42",
   "metadata": {
    "slideshow": {
     "slide_type": "fragment"
    }
   },
   "outputs": [
    {
     "name": "stdout",
     "output_type": "stream",
     "text": [
      "da= [[1 2]\n",
      " [3 4]]\n",
      "Sum of all elements da.sum()= 10\n",
      "Sum of all elements in each column da.sum(axis=0)= [4 6]\n",
      "Sum of all elements in each row da.sum(axis=1)= [3 7]\n",
      "dot product is ca.dot(da)= [ 7 10]\n"
     ]
    }
   ],
   "source": [
    "print('da=', da)\n",
    "print('Sum of all elements da.sum()=', da.sum())\n",
    "print('Sum of all elements in each column da.sum(axis=0)=', da.sum(axis=0))\n",
    "print('Sum of all elements in each row da.sum(axis=1)=', da.sum(axis=1))\n",
    "print('dot product is ca.dot(da)=', ca.dot(da))"
   ]
  },
  {
   "cell_type": "markdown",
   "id": "9ca44bac-5234-4966-a761-c10107051272",
   "metadata": {
    "slideshow": {
     "slide_type": "subslide"
    },
    "user_expressions": []
   },
   "source": [
    "## We can create special arrays/matrices using Numpy's functions and classes"
   ]
  },
  {
   "cell_type": "code",
   "execution_count": 33,
   "id": "9e6068f6-bb11-414b-8cf4-e47552908dff",
   "metadata": {
    "slideshow": {
     "slide_type": "fragment"
    }
   },
   "outputs": [
    {
     "name": "stdout",
     "output_type": "stream",
     "text": [
      "[[1. 1. 1. 1.]\n",
      " [1. 1. 1. 1.]\n",
      " [1. 1. 1. 1.]]\n",
      "[[0. 0.]\n",
      " [0. 0.]]\n",
      "[[1. 0.]\n",
      " [0. 1.]]\n",
      "[1 1]\n"
     ]
    }
   ],
   "source": [
    "print(np.ones((3,4)))\n",
    "print(np.zeros((2,2)))\n",
    "print(np.eye(2))\n",
    "print(np.ones_like(ca))"
   ]
  },
  {
   "cell_type": "markdown",
   "id": "4d4e5111-5f5c-41c1-8e44-facfc02b8354",
   "metadata": {
    "slideshow": {
     "slide_type": "subslide"
    },
    "user_expressions": []
   },
   "source": [
    "## Random Numbers with `np.random`"
   ]
  },
  {
   "cell_type": "markdown",
   "id": "230b88a1-d657-466e-90e7-9130e509531b",
   "metadata": {
    "slideshow": {
     "slide_type": "fragment"
    },
    "user_expressions": []
   },
   "source": [
    "## Uniform distribution `np.random.uniform(low, high, size)`"
   ]
  },
  {
   "cell_type": "code",
   "execution_count": 34,
   "id": "bb3b2f57-a667-4d69-b3ff-745344f8e8b7",
   "metadata": {
    "slideshow": {
     "slide_type": "fragment"
    }
   },
   "outputs": [
    {
     "data": {
      "text/plain": [
       "array([-0.52548232, -0.56795954,  0.84326931, -0.08067645, -0.67207044,\n",
       "       -0.97950171, -0.77512929,  0.23379593,  0.28867905,  0.64801108])"
      ]
     },
     "execution_count": 34,
     "metadata": {},
     "output_type": "execute_result"
    }
   ],
   "source": [
    "np.random.uniform(-1,1,10)"
   ]
  },
  {
   "cell_type": "markdown",
   "id": "39b256cc-6fca-4a0e-9cde-d56f921754df",
   "metadata": {
    "slideshow": {
     "slide_type": "subslide"
    },
    "tags": [],
    "user_expressions": []
   },
   "source": [
    "## Normal Distribution `np.random.normal(loc, scale, size)`"
   ]
  },
  {
   "cell_type": "code",
   "execution_count": 35,
   "id": "a7baaae9-562f-4cb8-9cb7-a55a8e79770f",
   "metadata": {
    "slideshow": {
     "slide_type": "fragment"
    }
   },
   "outputs": [
    {
     "data": {
      "text/plain": [
       "array([[ 9.33788066,  8.94336164,  9.93418142],\n",
       "       [10.49827102, 10.69037502,  9.21247342],\n",
       "       [10.25438879,  9.02839754, 11.20090994]])"
      ]
     },
     "execution_count": 35,
     "metadata": {},
     "output_type": "execute_result"
    }
   ],
   "source": [
    "np.random.normal(10, 1, size=(3,3))"
   ]
  },
  {
   "cell_type": "markdown",
   "id": "5cf1aa80",
   "metadata": {
    "slideshow": {
     "slide_type": "subslide"
    }
   },
   "source": [
    "# Example"
   ]
  },
  {
   "cell_type": "markdown",
   "id": "8771bc81-897d-4c8e-b5e8-4929a09f5740",
   "metadata": {
    "slideshow": {
     "slide_type": "fragment"
    },
    "tags": [],
    "user_expressions": []
   },
   "source": [
    "Let's create a simple random walk and plot it. A random walk is a variable $x_t$ that satisfies\n",
    "$$\n",
    "x_{t+1} = a_0 + x_t + \\varepsilon_t\n",
    "$$\n",
    "where $a_0$ is some real number, known as *drift*, and $\\varepsilon_t$ is a random variable that is Normally distributed with mean 0 and standard deviation $\\sigma^2$, i.e., \n",
    "$$\n",
    "\\varepsilon_t\\sim\\mathcal{N}(0,\\sigma^2).\n",
    "$$\n",
    "For simplicity, let's assume the drift $a_0=0$."
   ]
  },
  {
   "cell_type": "code",
   "execution_count": 36,
   "id": "425939c6-b70a-4107-92d8-6ce8404f9286",
   "metadata": {
    "slideshow": {
     "slide_type": "subslide"
    }
   },
   "outputs": [
    {
     "data": {
      "application/vnd.jupyter.widget-view+json": {
       "model_id": "560291b7eab3499db7f2cecea795ec9e",
       "version_major": 2,
       "version_minor": 0
      },
      "image/png": "[encoded data removed]",
      "text/html": [
       "\n",
       "            <div style=\"display: inline-block;\">\n",
       "                <div class=\"jupyter-widgets widget-label\" style=\"text-align: center;\">\n",
       "                    Figure\n",
       "                </div>\n",
       "                <img src='data:image/png;base64,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' width=800.0/>\n",
       "            </div>\n",
       "        "
      ],
      "text/plain": [
       "Canvas(toolbar=Toolbar(toolitems=[('Home', 'Reset original view', 'home', 'home'), ('Back', 'Back to previous …"
      ]
     },
     "metadata": {},
     "output_type": "display_data"
    }
   ],
   "source": [
    "#np.random.seed(123456)\n",
    "x0 = 0\n",
    "x = [x0]\n",
    "[x.append(x[-1] + np.random.normal() ) for i in range(500)]\n",
    "fig, ax = plt.subplots(figsize=(8,5))\n",
    "ax.plot(x)\n",
    "plt.title(r'A simple random walk', fontsize=24)\n",
    "plt.xlabel(r'Period $t$', fontsize=18)\n",
    "plt.ylabel(r'$x_t$', fontsize=18)\n",
    "plt.show()"
   ]
  },
  {
   "cell_type": "markdown",
   "id": "b8ab4165-cd93-4219-8871-cbe63f32689b",
   "metadata": {
    "slideshow": {
     "slide_type": "subslide"
    },
    "tags": [],
    "user_expressions": []
   },
   "source": [
    "<div class=\"alert alert-block alert-warning\">\n",
    "    <b>Exercise 1:</b> Write a function that computes the level of output generated by a constant returns to scale Cobb-Douglas production function, i.e., such that it computes $A\\cdot K^\\alpha \\cdot L^{1-\\alpha}$.\n",
    "</div>"
   ]
  },
  {
   "cell_type": "code",
   "execution_count": 37,
   "id": "433f1c07-9587-41b2-bc14-ec9c62a04782",
   "metadata": {
    "slideshow": {
     "slide_type": "-"
    }
   },
   "outputs": [],
   "source": [
    "def CobbDouglas(K=1, L=1, A=1, alpha=0.3):\n",
    "    '''\n",
    "    This function computes the level of output of a Cobb-Douglas production function.\n",
    "    Given values of K, L, A, and alpha it returns $A\\cdot K^\\alpha \\cdot L^{1-\\alpha}$.\n",
    "    Parameters:\n",
    "    -----------\n",
    "    K: float, integer or any other number, default=1\n",
    "    L: float, integer or any other number, default=1\n",
    "    A: float, integer or any other number, default=1\n",
    "    alpha: float between (0,1), default=0.3\n",
    "    \n",
    "    Returns:\n",
    "    --------\n",
    "    out = A * K**alpha * L**(1-alpha)\n",
    "    \n",
    "    Example:\n",
    "    >>> out = CobbDouglas(4, 9, 2, 1/2)\n",
    "    >>> out\n",
    "        12\n",
    "    '''"
   ]
  },
  {
   "cell_type": "markdown",
   "id": "4108e0e6-b085-4adc-b552-de60240d2af9",
   "metadata": {
    "slideshow": {
     "slide_type": "subslide"
    },
    "tags": [],
    "user_expressions": []
   },
   "source": [
    "<div class=\"alert alert-block alert-warning\">\n",
    "    <b>Exercise 2:</b> Use the function you created and plot the production function as a function of $K$ for given values of $A$ and $L$. <b>Hint:</b> Use the <code>np.linspace(0, 5, 100)</code> function to create an array of values of $K$ with 100 point between 0 and 5.\n",
    "</div>"
   ]
  },
  {
   "cell_type": "markdown",
   "id": "65fadbca-afa5-4032-acab-28834bb3e7b0",
   "metadata": {
    "slideshow": {
     "slide_type": "fragment"
    },
    "tags": [],
    "user_expressions": []
   },
   "source": [
    "<div class=\"alert alert-block alert-warning\">\n",
    "    <b>Exercise 3:</b> Show with a plot the effect of increasing $A$ from 1 to 2, 4, or 5.\n",
    "</div>"
   ]
  },
  {
   "cell_type": "markdown",
   "id": "ff03a853-9ecc-49c8-9b85-0a23cfe0d617",
   "metadata": {
    "slideshow": {
     "slide_type": "fragment"
    },
    "tags": [],
    "user_expressions": []
   },
   "source": [
    "<div class=\"alert alert-block alert-warning\">\n",
    "    <b>Exercise 4:</b> Show with a plot the effect of increasing $L$ from 1 to 2, 4, 5.\n",
    "</div>"
   ]
  },
  {
   "cell_type": "markdown",
   "id": "47d77009",
   "metadata": {
    "slideshow": {
     "slide_type": "fragment"
    },
    "tags": [],
    "user_expressions": []
   },
   "source": [
    "<div class=\"alert alert-block alert-warning\">\n",
    "    <b>Exercise 5:</b> Save the previous plots into <b>png, jpeg, and pdf</b> files using the <code>plt.savefig</code> function.\n",
    "</div>"
   ]
  },
  {
   "cell_type": "markdown",
   "id": "7e069b15-d310-4a6f-909f-dc37469f76b7",
   "metadata": {
    "slideshow": {
     "slide_type": "slide"
    },
    "tags": [],
    "user_expressions": []
   },
   "source": [
    "Notebook written by [Ömer Özak](http://omerozak.com) for his students in Economics at [Southern Methodist University](http://www.smu.edu). Feel free to use, distribute, or contribute."
   ]
  },
  {
   "cell_type": "markdown",
   "id": "45b16c47-b621-4de7-bf4d-25e55e8c3509",
   "metadata": {
    "slideshow": {
     "slide_type": "-"
    },
    "tags": [],
    "user_expressions": []
   },
   "source": [
    "[<center><img src=\"https://github.com/measuring-culture/Expanding-Measurement-Culture-Facebook-JRSI/blob/main/pics/SMUlogowWordmarkRB.jpg?raw=true\" width=\"250\"></center>](http://omerozak.com)"
   ]
  }
 ],
 "metadata": {
  "celltoolbar": "Slideshow",
  "kernelspec": {
   "display_name": "Python 3 (ipykernel)",
   "language": "python",
   "name": "python3"
  },
  "language_info": {
   "codemirror_mode": {
    "name": "ipython",
    "version": 3
   },
   "file_extension": ".py",
   "mimetype": "text/x-python",
   "name": "python",
   "nbconvert_exporter": "python",
   "pygments_lexer": "ipython3",
   "version": "3.9.13"
  },
  "nbTranslate": {
   "displayLangs": [
    "*"
   ],
   "hotkey": "alt-t",
   "langInMainMenu": true,
   "sourceLang": "en",
   "targetLang": "fr",
   "useGoogleTranslate": true
  },
  "widgets": {
   "application/vnd.jupyter.widget-state+json": {
    "state": {},
    "version_major": 2,
    "version_minor": 0
   }
  }
 },
 "nbformat": 4,
 "nbformat_minor": 5
}
